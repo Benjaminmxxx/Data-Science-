{
 "cells": [
  {
   "cell_type": "markdown",
   "metadata": {},
   "source": [
    "# Práctica Clase 2"
   ]
  },
  {
   "cell_type": "markdown",
   "metadata": {},
   "source": [
    "1) Abrir el archivo \"Emisiones_CO2.csv\" y cargar sus datos en un diccionario."
   ]
  },
  {
   "cell_type": "code",
   "execution_count": 28,
   "metadata": {},
   "outputs": [],
   "source": [
    "def normalización(lista):\n",
    "    for indice, elemento in enumerate(lista): #Acceder al indice y elemento de cada lista\n",
    "        if elemento:\n",
    "            elemento=elemento.replace('.','') #Remplazar el punto por espacio vacio\n",
    "            elemento=elemento.replace(',','.') #Remplzar las comas por un punto\n",
    "            elemento=float(elemento) #Convertir el dato en flotante\n",
    "        else:\n",
    "            elemento=None #Cuando el elemento es '' le asigna un None\n",
    "\n",
    "        lista[indice]=(elemento) # Dentro del primer for para que vaya introduciendo los\n",
    "                                 # valores cambiados\n",
    "\n",
    "    return lista #Retorna la lista con los valores nuevos"
   ]
  },
  {
   "cell_type": "code",
   "execution_count": 29,
   "metadata": {},
   "outputs": [],
   "source": [
    "import os\n",
    "\n",
    "with open ('Emisiones_CO2.csv','r') as archivo: #Se debe cerrar el archivo siempre por eso abrir con With Open\n",
    "\n",
    "    dicc_emisiones = {  'cod_pais' : [],\n",
    "                        'nom_pais' : [],\n",
    "                        'region' : [],\n",
    "                        'anio' : [],\n",
    "                        'co2' : [],\n",
    "                        'co2_percapita':[]}\n",
    "                        \n",
    "    next(archivo)\n",
    "    for linea in archivo:\n",
    "        linea=linea.strip() #Sacar los espacios: ejem= 'ABW|Aruba|América Latina y Caribe|1960|n/' \n",
    "        campos=linea.split('|') #Devuelve una lista de una linea usando como delimitador el caracter el las separa\n",
    "                                #Ejem:'1,2,3'.split(',') --> ['1', '2', '3']\n",
    "                                #Realizadas las listas procedemos a \n",
    "        dicc_emisiones['cod_pais'].append(campos[0]), #Llenado de  las claves del diccionario con las listas creadas\n",
    "        dicc_emisiones['nom_pais'].append(campos[1]), #De cada linea de datos\n",
    "        dicc_emisiones['region'].append(campos[2]),\n",
    "        dicc_emisiones['anio'].append(int(campos[3])),\n",
    "        dicc_emisiones['co2'].append((campos[4])),\n",
    "        dicc_emisiones['co2_percapita'].append((campos[5]))\n",
    "\n",
    "    dicc_emisiones['co2']=normalización(dicc_emisiones['co2']) #Uso de la función norma para el cambio de los datos\n",
    "    dicc_emisiones['co2_percapita']=normalización(dicc_emisiones['co2_percapita'])"
   ]
  },
  {
   "cell_type": "markdown",
   "metadata": {},
   "source": [
    "2) a) ¿Cuántas variables hay? <br>\n"
   ]
  },
  {
   "cell_type": "code",
   "execution_count": 30,
   "metadata": {},
   "outputs": [
    {
     "name": "stdout",
     "output_type": "stream",
     "text": [
      "El numero de variables es 6\n"
     ]
    }
   ],
   "source": [
    "contador=0\n",
    "for i in dicc_emisiones.keys(): #Contador no tan eficiente, mejor con un len() del diccionario\n",
    "    if i: contador+=1\n",
    "print('El numero de variables es {}'.format(contador)) "
   ]
  },
  {
   "cell_type": "markdown",
   "metadata": {},
   "source": [
    "b) ¿Qué tipos de datos usar para cada una? <br>"
   ]
  },
  {
   "cell_type": "code",
   "execution_count": null,
   "metadata": {},
   "outputs": [],
   "source": []
  },
  {
   "cell_type": "markdown",
   "metadata": {},
   "source": [
    "c) ¿Qué tipo de variables son? <br>"
   ]
  },
  {
   "cell_type": "code",
   "execution_count": 31,
   "metadata": {},
   "outputs": [
    {
     "name": "stdout",
     "output_type": "stream",
     "text": [
      "Los variables de la clase cod_pais son del tipo <class 'str'> \n",
      "Los variables de la clase nom_pais son del tipo <class 'str'> \n",
      "Los variables de la clase region son del tipo <class 'str'> \n",
      "Las variables de la clase anio son del tipo<class 'int'>\n",
      "Las variables de la clase co2, es del tipo float\n",
      "Las variables de la clase co2_percapita, es del tipo float\n"
     ]
    }
   ],
   "source": [
    "\n",
    "\n",
    "for clave in dicc_emisiones:\n",
    "    for elemento in dicc_emisiones[clave]: #Fords anidados para entrar a los elementos de cada lista\n",
    "        if type(elemento)==str:  #Sirve para tres claves\n",
    "            print('Los variables de la clase {} son del tipo {} '.format((clave),type(elemento)))\n",
    "            break #Breaks para que solo lea el primer elemento de la lista\n",
    "        elif type(elemento)!=int and type(elemento)!=None: #Si no es entero es flotante\n",
    "            print('Las variables de la clase {}, es del tipo float'.format(clave))\n",
    "            break #Escrito de esta manera para evitar los NoneType\n",
    "        else: #Sino es flotante es entero  \n",
    "            print('Las variables de la clase {} son del tipo{}'.format(clave,type(elemento)))\n",
    "            break"
   ]
  },
  {
   "cell_type": "markdown",
   "metadata": {},
   "source": [
    "d) ¿Hay valores faltantes? <br>\n"
   ]
  },
  {
   "cell_type": "code",
   "execution_count": 32,
   "metadata": {},
   "outputs": [
    {
     "name": "stdout",
     "output_type": "stream",
     "text": [
      "En la clave cod_pais faltan 0 valores\n",
      "En la clave nom_pais faltan 0 valores\n",
      "En la clave region faltan 0 valores\n",
      "En la clave anio faltan 0 valores\n",
      "En la clave co2 faltan 2095 valores\n",
      "En la clave co2_percapita faltan 2098 valores\n",
      "Los elementos faltantes en todo el diccionario son: 4193\n"
     ]
    }
   ],
   "source": [
    "contadorgeneral=0 #Contador para todos los elementos\n",
    "for clave in dicc_emisiones:\n",
    "        contador=0  #Este contador va para que se reinicie la cuenta en cada lista\n",
    "        for elemento in dicc_emisiones[clave]: #Fords anidados \n",
    "            if elemento==None: \n",
    "                contador+=1\n",
    "                contadorgeneral+=1 \n",
    "        print('En la clave {} faltan {} valores'.format(clave,contador)) #Imprima los faltantes de cada clave\n",
    "print('Los elementos faltantes en todo el diccionario son: {}'.format(contadorgeneral))"
   ]
  },
  {
   "cell_type": "markdown",
   "metadata": {},
   "source": [
    "e) ¿Cuál es el total de emisiones de CO2 para 'América Latina y Caribe' en el año 2010?"
   ]
  },
  {
   "cell_type": "code",
   "execution_count": 33,
   "metadata": {},
   "outputs": [
    {
     "name": "stdout",
     "output_type": "stream",
     "text": [
      "Las emisiones para América Latina y Caribe en el año 2010 fueron de: 1691634.801\n"
     ]
    }
   ],
   "source": [
    "filtroanio=2010 #Filtros que nos permiten saber las emisiones por anio y region \n",
    "filtroregion='América Latina y Caribe'\n",
    "emisionesCo2=0.0\n",
    "for i,ele in enumerate (dicc_emisiones['co2']): #Accedemos a los elementos de la lista Co2\n",
    "    if dicc_emisiones['anio'][i]==filtroanio and dicc_emisiones['region'][i]==filtroregion:\n",
    "    #Se usa esta condicion para indicar con la filtración la posición que nos interesa sumar de la lista co2 \n",
    "        if ele!=None: #Siempre y cuando sea diferente de None\n",
    "            emisionesCo2+=ele #Finalmente se suman \n",
    "print(f'Las emisiones para {filtroregion} en el año {filtroanio} fueron de: {round(emisionesCo2,3)}')\n"
   ]
  }
 ],
 "metadata": {
  "kernelspec": {
   "display_name": "Python 3.8.3 64-bit",
   "language": "python",
   "name": "python3"
  },
  "language_info": {
   "codemirror_mode": {
    "name": "ipython",
    "version": 3
   },
   "file_extension": ".py",
   "mimetype": "text/x-python",
   "name": "python",
   "nbconvert_exporter": "python",
   "pygments_lexer": "ipython3",
   "version": "3.8.3"
  },
  "orig_nbformat": 4,
  "vscode": {
   "interpreter": {
    "hash": "aee8b7b246df8f9039afb4144a1f6fd8d2ca17a180786b69acc140d282b71a49"
   }
  }
 },
 "nbformat": 4,
 "nbformat_minor": 2
}
