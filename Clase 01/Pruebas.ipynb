{
 "cells": [
  {
   "cell_type": "code",
   "execution_count": 19,
   "metadata": {},
   "outputs": [
    {
     "name": "stdout",
     "output_type": "stream",
     "text": [
      "1100\n"
     ]
    }
   ],
   "source": [
    "numero=12\n",
    "bin=[]\n",
    "\n",
    "while numero>0:\n",
    "    parte_binaria=numero%2 #El modulo de %2 siempre dara 1 o 0 generalemnte por eso se uso\n",
    "    bin.append(str(parte_binaria))\n",
    "    numero=numero//2 #Para el cociente y que siga el while\n",
    "\n",
    "bin.reverse() #Revisar si es una funcion de strings \n",
    "res=\"\".join(bin)\n",
    "print(int(res))"
   ]
  },
  {
   "cell_type": "code",
   "execution_count": 108,
   "metadata": {},
   "outputs": [
    {
     "name": "stdout",
     "output_type": "stream",
     "text": [
      "[1, 1, 1, 0, 1, 0]\n"
     ]
    }
   ],
   "source": [
    "numero=int(58)\n",
    "bin=[]\n",
    "binario=[]\n",
    "while numero>0: #Mi condicion irá bajando respecto al nuevo valor asiganado a la variable\n",
    "                #Derivado de hacer la primer iteración\n",
    "\n",
    "    if(numero%2==0):\n",
    "        bin.append(0)\n",
    "    else:\n",
    "        bin.append(1)\n",
    "    #print(numero) #Para pruebas\n",
    "    numero=int(numero/2)\n",
    "\n",
    "for i in range (0,len(bin)): #Reverse\n",
    "    binario.append(bin[-i-1])\n",
    "\n",
    "print(binario)\n"
   ]
  },
  {
   "cell_type": "code",
   "execution_count": 131,
   "metadata": {},
   "outputs": [
    {
     "name": "stdout",
     "output_type": "stream",
     "text": [
      "111010\n",
      "<class 'int'>\n"
     ]
    }
   ],
   "source": [
    "list1=[1, 1, 1, 0, 1, 0]\n",
    "lis2=[]\n",
    "p=''\n",
    "for j in list1:\n",
    "\n",
    "    if type(j)==int:\n",
    "        lis2.append(str(j))\n",
    "\n",
    "for k in range (len(lis2)):\n",
    "    p+=lis2[k]   \n",
    "\n",
    "n=int(p)\n",
    "\n",
    "print(n)\n",
    "print(type(n))"
   ]
  },
  {
   "cell_type": "code",
   "execution_count": 118,
   "metadata": {},
   "outputs": [
    {
     "name": "stdout",
     "output_type": "stream",
     "text": [
      "odnuM aloH\n"
     ]
    }
   ],
   "source": [
    "def reversename(palabra):\n",
    "    text_len=len(palabra)\n",
    "    c=''\n",
    "    \n",
    "    for i in range(0,text_len):\n",
    "       \n",
    "        c+=palabra[text_len-i-1]\n",
    "\n",
    "    return(c)\n",
    "\n",
    "print(reversename('Hola Mundo'))"
   ]
  },
  {
   "cell_type": "code",
   "execution_count": null,
   "metadata": {},
   "outputs": [],
   "source": [
    "num=5/16\n",
    "lista2=[]\n",
    "\n",
    "while num!=1:\n",
    "    if(num>1):\n",
    "        lis2.append(1)\n",
    "        num=num-1\n",
    "        num=num*2\n",
    "        print(num)\n",
    "    if num<1:\n",
    "        lista2.append(0)\n",
    "\n",
    "print(lis2)\n"
   ]
  },
  {
   "cell_type": "code",
   "execution_count": null,
   "metadata": {},
   "outputs": [],
   "source": [
    "num=5/16\n",
    "lista2=[]\n",
    "\n",
    "while num!=1:\n",
    "    if(num>1):\n",
    "        lis2.append(1)\n",
    "        num=num-1\n",
    "        print(num)\n",
    "        num=num*2\n",
    "    elif (num<0):\n",
    "        print('hola')\n",
    "        "
   ]
  },
  {
   "cell_type": "code",
   "execution_count": 156,
   "metadata": {},
   "outputs": [
    {
     "data": {
      "text/plain": [
       "False"
      ]
     },
     "execution_count": 156,
     "metadata": {},
     "output_type": "execute_result"
    }
   ],
   "source": [
    "num=1.0\n",
    "num!=1"
   ]
  },
  {
   "cell_type": "code",
   "execution_count": 163,
   "metadata": {},
   "outputs": [
    {
     "name": "stdout",
     "output_type": "stream",
     "text": [
      "0.625\n",
      "1.25\n",
      "0.5\n",
      "1.0\n",
      "[0, 1, 0]\n",
      "10\n",
      "<class 'int'>\n"
     ]
    }
   ],
   "source": [
    "num=5/16\n",
    "lista2=[]\n",
    "lis3=[]\n",
    "p=''\n",
    "while num!=1.0:\n",
    "        num=num*2\n",
    "        print(num)\n",
    "\n",
    "        if num<1:\n",
    "            lista2.append(0)\n",
    "        elif (num>1):\n",
    "            #print('hola') #Ayuda para saber como estaba funcionando el ciclo\n",
    "            lista2.append(1)\n",
    "            num=num-1\n",
    "print(lista2)           \n",
    "for j in lista2:\n",
    "\n",
    "    if type(j)==int:\n",
    "        lis3.append(str(j))\n",
    "\n",
    "for k in range (len(lis3)):\n",
    "    p+=lis3[k]   \n",
    "\n",
    "n=int(p)\n",
    "\n",
    "print(n)\n",
    "print(type(n))\n"
   ]
  },
  {
   "cell_type": "code",
   "execution_count": 3,
   "metadata": {},
   "outputs": [
    {
     "data": {
      "text/plain": [
       "5"
      ]
     },
     "execution_count": 3,
     "metadata": {},
     "output_type": "execute_result"
    }
   ],
   "source": [
    "10//2\n"
   ]
  },
  {
   "cell_type": "code",
   "execution_count": 175,
   "metadata": {},
   "outputs": [
    {
     "name": "stdout",
     "output_type": "stream",
     "text": [
      "0.625\n",
      "1.25\n",
      "0.5\n",
      "1.0\n",
      "[0, 1, 0, 1]\n",
      "['0', '1', '0', '1']\n",
      "0.0101\n"
     ]
    }
   ],
   "source": [
    "num=5/16\n",
    "lista2=[]\n",
    "lis3=[]\n",
    "p='0.'\n",
    "while num!=1.0:\n",
    "        num=num*2\n",
    "        print(num)\n",
    "        if num==1:\n",
    "            lista2.append(1)\n",
    "        if num<1:\n",
    "            lista2.append(0)\n",
    "        elif (num>1):\n",
    "            #print('hola') #Me ayuda para saber como estaba funcionando el ciclo\n",
    "            lista2.append(1)\n",
    "            num=num-1\n",
    "for j in lista2:\n",
    "\n",
    "    if type(j)==int:\n",
    "        lis3.append(str(j))\n",
    "for k in range (len(lis3)):\n",
    "\n",
    "    p+=lis3[k] \n",
    "\n",
    "print(lista2)\n",
    "print(lis3)\n",
    "print(p)"
   ]
  }
 ],
 "metadata": {
  "kernelspec": {
   "display_name": "Python 3.8.3 64-bit",
   "language": "python",
   "name": "python3"
  },
  "language_info": {
   "codemirror_mode": {
    "name": "ipython",
    "version": 3
   },
   "file_extension": ".py",
   "mimetype": "text/x-python",
   "name": "python",
   "nbconvert_exporter": "python",
   "pygments_lexer": "ipython3",
   "version": "3.8.3"
  },
  "orig_nbformat": 4,
  "vscode": {
   "interpreter": {
    "hash": "aee8b7b246df8f9039afb4144a1f6fd8d2ca17a180786b69acc140d282b71a49"
   }
  }
 },
 "nbformat": 4,
 "nbformat_minor": 2
}
