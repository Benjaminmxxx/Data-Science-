{
 "cells": [
  {
   "cell_type": "markdown",
   "metadata": {},
   "source": [
    "# Práctica Clase 5"
   ]
  },
  {
   "cell_type": "markdown",
   "metadata": {},
   "source": [
    "1) Implementar un juego, que consista en apilar números enteros del 1 al 20, de forma aleatoria, para lo cual debe usarse una estructura de Pila. \n",
    "Luego, el usuario debe elegir un número de veces en que se va a quitar elementos de la pila, los cuales, sumados entre sí, no deben superar el valor de 50.\n",
    "El usuario pierde si la suma supera ese valor. Si no lo supera, gana, pero su calificación será 10 menos el número elementos que falten quitar para todavía no superar 50.\n",
    "El programa debe informar si perdió, y si ganó, con qué calificación lo hizo.\n",
    "\n",
    "Consideraciones:<br>\n",
    "a. Se puede usar la función input() para obtener una entrada de teclado.<br>\n",
    "b. Se puede usar la el modulo random para obtener valores aleatorios."
   ]
  },
  {
   "cell_type": "code",
   "execution_count": 1,
   "metadata": {},
   "outputs": [],
   "source": [
    "import numpy as np"
   ]
  },
  {
   "cell_type": "code",
   "execution_count": 255,
   "metadata": {},
   "outputs": [],
   "source": [
    "def juego_apilar(veces_quitar):\n",
    "    \n",
    "    acumulador=0\n",
    "    acumulador2=0\n",
    "    acumulador_cartasf=0\n",
    "    lista_1=np.arange(1,21)\n",
    "    np.random.shuffle(lista_1)\n",
    "    print(tuple(lista_1))\n",
    "\n",
    "    for i in range(0,veces_quitar):\n",
    "        n=last, lista_1 = lista_1[-1],lista_1[:-1] #\n",
    "        acumulador=acumulador+last\n",
    "    print('Escogiste {} cartas y suman:{}'.format(veces_quitar,acumulador))\n",
    "    if acumulador==50:\n",
    "        print('Haz ganado y tu puntuación es maravilloso 10')\n",
    "    elif(acumulador<50):\n",
    "        acumulador2=acumulador\n",
    "        while acumulador2<=50:\n",
    "            n=last, lista_1 = lista_1[-1],lista_1[:-1]  \n",
    "            acumulador2=acumulador2+last\n",
    "            if acumulador2<50:\n",
    "                acumulador_cartasf=acumulador_cartasf+1\n",
    "        print('Pudiste sacar {} cartas más para no superar el valor de 50'.format(acumulador_cartasf))\n",
    "        print('Haz ganado y tu puntuación es:', 10-acumulador_cartasf)\n",
    "    else:\n",
    "        print('Haz perdido')\n",
    "    return "
   ]
  },
  {
   "cell_type": "code",
   "execution_count": 194,
   "metadata": {},
   "outputs": [
    {
     "name": "stdout",
     "output_type": "stream",
     "text": [
      "(10, 7, 8, 11, 6, 2, 14, 18, 5, 15, 20, 17, 16, 12, 9, 1, 4, 3, 19, 13)\n",
      "13\n"
     ]
    }
   ],
   "source": [
    "lista_1=np.arange(1,21)\n",
    "np.random.shuffle(lista_1)\n",
    "print(tuple(lista_1))\n",
    "n=last, lista_1 = lista_1[-1],lista_1[:-1]\n",
    "print(last)"
   ]
  },
  {
   "cell_type": "code",
   "execution_count": 257,
   "metadata": {},
   "outputs": [
    {
     "name": "stdout",
     "output_type": "stream",
     "text": [
      "(8, 15, 2, 12, 4, 3, 9, 11, 19, 20, 13, 10, 1, 6, 5, 14, 16, 17, 18, 7)\n",
      "Escogiste 5 cartas y suman:72\n",
      "Haz perdido\n"
     ]
    }
   ],
   "source": [
    "juego_apilar(5)"
   ]
  },
  {
   "cell_type": "markdown",
   "metadata": {},
   "source": [
    "2) Implementar un juego donde constas de 2 jarras, de capacidad 5 y 3 litros respectivamente, y debes colocar 4 litros en la jarra de 5L.\n",
    "Las opciones posibles son:\n",
    "* Llenar la jarra de 3 litros\n",
    "* Llenar la jarra de 5 litros\n",
    "* Vaciar la jarra de 3 litros\n",
    "* Vaciar la jarra de 5 litros\n",
    "* Verter el contenido de la jarra de 3 litros en la de 5 litros\n",
    "* Verter el contenido de la jarra de 5 litros en la de 3 litros"
   ]
  },
  {
   "cell_type": "code",
   "execution_count": 258,
   "metadata": {},
   "outputs": [],
   "source": [
    "class JuegoJarra():\n",
    "    def __init__(self):\n",
    "\n",
    "        self.__jarra3=0\n",
    "        self.__jarra5=0\n",
    "    \n",
    "    def llenarjarra(self,jarra):\n",
    "        if jarra == 3:\n",
    "            if self.__jarra3!=0:\n",
    "                self.__jarra3=3\n",
    "                print('La jarra de 3L esta llena')\n",
    "            else:\n",
    "                self.__jarra3=3\n",
    "                print('La jarra de 3L ahora tiene {} Litros '.format(self.__jarra3))\n",
    "        elif jarra==5:\n",
    "            if self.__jarra5!=0:\n",
    "                self.__jarra5=5\n",
    "                print('La jarra de 5L esta llena')\n",
    "            else:\n",
    "                self.__jarra5=5\n",
    "                print('La jarra de 5L tiene ',self.__jarra5)\n",
    "        else:\n",
    "            print('Ingreso incorrecto, indique 3 para Jarra3 o 5 para Jarra5')\n",
    "\n",
    "    def vaciarjarra(self,jarra):\n",
    "        if jarra==3:\n",
    "            if self.__jarra3==3:\n",
    "                self.__jarra3=0\n",
    "                print('Se vacio la Jarra de 3L')\n",
    "            else:\n",
    "                print('La jarra esta vacia')\n",
    "        elif jarra==5:\n",
    "            if self.__jarra5==5:\n",
    "                self.__jarra5=0\n",
    "                print('Se vacio la Jarra de 5L')\n",
    "\n",
    "    def verterjarra(self,jarra):\n",
    "        if jarra==3:\n",
    "            if self.__jarra5<5:\n",
    "                self.__jarra5+=self.__jarra3\n",
    "                if self.__jarra5>5:\n",
    "                    self.__jarra3=self.__jarra5%5 #Lo que sobra\n",
    "                    self.__jarra5=self.__jarra5-(self.__jarra3)\n",
    "                else:\n",
    "                    self.__jarra3=0\n",
    "            else:\n",
    "                print('La jarra de 5 litros esta llena')\n",
    "        elif jarra==5:\n",
    "            if self.__jarra3<3:\n",
    "                self.__jarra3+=self.__jarra5\n",
    "                if self.__jarra3>3:\n",
    "                    self.__jarra5=self.__jarra3%3 #Lo que sobra\n",
    "                    self.__jarra3=self.__jarra3-(self.__jarra5)\n",
    "            else:\n",
    "                print('La jarra de 3 litros esta llena')\n",
    "        \n",
    "        print(\"Ahora la jarra 3 tiene {} lts y la jarra 5 tiene {} lts.\".format(self.__jarra3,self.__jarra5))\n",
    "\n",
    "        "
   ]
  },
  {
   "cell_type": "code",
   "execution_count": 259,
   "metadata": {},
   "outputs": [
    {
     "name": "stdout",
     "output_type": "stream",
     "text": [
      "La jarra de 3L ahora tiene 3 Litros \n",
      "Ahora la jarra 3 tiene 0 lts y la jarra 5 tiene 3 lts.\n",
      "La jarra de 3L ahora tiene 3 Litros \n",
      "Ahora la jarra 3 tiene 1 lts y la jarra 5 tiene 5 lts.\n",
      "Se vacio la Jarra de 5L\n",
      "Ahora la jarra 3 tiene 0 lts y la jarra 5 tiene 1 lts.\n",
      "La jarra de 3L ahora tiene 3 Litros \n",
      "Ahora la jarra 3 tiene 0 lts y la jarra 5 tiene 4 lts.\n"
     ]
    }
   ],
   "source": [
    "j=JuegoJarra()\n",
    "j.llenarjarra(3)\n",
    "j.verterjarra(3)\n",
    "j.llenarjarra(3)\n",
    "j.verterjarra(3)\n",
    "j.vaciarjarra(5)\n",
    "j.verterjarra(3)\n",
    "j.llenarjarra(3)\n",
    "j.verterjarra(3)"
   ]
  },
  {
   "cell_type": "code",
   "execution_count": null,
   "metadata": {},
   "outputs": [],
   "source": [
    "#Logica básica de lo que pasa:\n",
    "\n",
    "jarra3=0\n",
    "jarra5=0\n",
    "\n",
    "jarra3+=3 #Llenar\n",
    "jarra5+=jarra3 #Vertir 3 en 5 \n",
    "jarra3-=3 #Se vacio por el paso anterior \n",
    "jarra3+=3#Llenar 3 jarra de nuevo\n",
    "jarra5+=jarra3 #vertir jarra 3 en 5 \n",
    "if jarra5>5: #Se pasa por un litro \n",
    "    jarra3=jarra5%5 #Con lo que se queda la jarra 3\n",
    "    jarra5=jarra5-(jarra5%5) # Le restamos con lo que se pase \n",
    "jarra5-=jarra5#Vaciar jarra 5\n",
    "jarra5+=jarra3#Vertir contenido de jarra3 en jarra 5\n",
    "jarra3-=jarra3#Se vacio por el paso anterior\n",
    "jarra3+=3#Llenar jarra 3\n",
    "jarra5+=jarra3#Verter el contenido de la jarra 3 en jarra 5\n",
    "jarra5"
   ]
  }
 ],
 "metadata": {
  "kernelspec": {
   "display_name": "Python 3.8.3 64-bit",
   "language": "python",
   "name": "python3"
  },
  "language_info": {
   "codemirror_mode": {
    "name": "ipython",
    "version": 3
   },
   "file_extension": ".py",
   "mimetype": "text/x-python",
   "name": "python",
   "nbconvert_exporter": "python",
   "pygments_lexer": "ipython3",
   "version": "3.8.3"
  },
  "vscode": {
   "interpreter": {
    "hash": "aee8b7b246df8f9039afb4144a1f6fd8d2ca17a180786b69acc140d282b71a49"
   }
  }
 },
 "nbformat": 4,
 "nbformat_minor": 4
}
